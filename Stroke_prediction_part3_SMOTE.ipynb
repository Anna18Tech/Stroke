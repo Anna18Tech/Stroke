{
 "cells": [
  {
   "cell_type": "code",
   "execution_count": 4,
   "id": "9tvZNuysv1gd",
   "metadata": {
    "colab": {
     "base_uri": "https://localhost:8080/"
    },
    "id": "9tvZNuysv1gd",
    "outputId": "7db85b55-6701-4744-b47c-e9fb76f277e5"
   },
   "outputs": [
    {
     "name": "stdout",
     "output_type": "stream",
     "text": [
      "Collecting catboost\n",
      "  Downloading catboost-1.2.2-cp310-cp310-manylinux2014_x86_64.whl (98.7 MB)\n",
      "\u001b[2K     \u001b[90m━━━━━━━━━━━━━━━━━━━━━━━━━━━━━━━━━━━━━━━━\u001b[0m \u001b[32m98.7/98.7 MB\u001b[0m \u001b[31m9.2 MB/s\u001b[0m eta \u001b[36m0:00:00\u001b[0m\n",
      "\u001b[?25hRequirement already satisfied: graphviz in /usr/local/lib/python3.10/dist-packages (from catboost) (0.20.1)\n",
      "Requirement already satisfied: matplotlib in /usr/local/lib/python3.10/dist-packages (from catboost) (3.7.1)\n",
      "Requirement already satisfied: numpy>=1.16.0 in /usr/local/lib/python3.10/dist-packages (from catboost) (1.23.5)\n",
      "Requirement already satisfied: pandas>=0.24 in /usr/local/lib/python3.10/dist-packages (from catboost) (1.5.3)\n",
      "Requirement already satisfied: scipy in /usr/local/lib/python3.10/dist-packages (from catboost) (1.11.4)\n",
      "Requirement already satisfied: plotly in /usr/local/lib/python3.10/dist-packages (from catboost) (5.15.0)\n",
      "Requirement already satisfied: six in /usr/local/lib/python3.10/dist-packages (from catboost) (1.16.0)\n",
      "Requirement already satisfied: python-dateutil>=2.8.1 in /usr/local/lib/python3.10/dist-packages (from pandas>=0.24->catboost) (2.8.2)\n",
      "Requirement already satisfied: pytz>=2020.1 in /usr/local/lib/python3.10/dist-packages (from pandas>=0.24->catboost) (2023.3.post1)\n",
      "Requirement already satisfied: contourpy>=1.0.1 in /usr/local/lib/python3.10/dist-packages (from matplotlib->catboost) (1.2.0)\n",
      "Requirement already satisfied: cycler>=0.10 in /usr/local/lib/python3.10/dist-packages (from matplotlib->catboost) (0.12.1)\n",
      "Requirement already satisfied: fonttools>=4.22.0 in /usr/local/lib/python3.10/dist-packages (from matplotlib->catboost) (4.46.0)\n",
      "Requirement already satisfied: kiwisolver>=1.0.1 in /usr/local/lib/python3.10/dist-packages (from matplotlib->catboost) (1.4.5)\n",
      "Requirement already satisfied: packaging>=20.0 in /usr/local/lib/python3.10/dist-packages (from matplotlib->catboost) (23.2)\n",
      "Requirement already satisfied: pillow>=6.2.0 in /usr/local/lib/python3.10/dist-packages (from matplotlib->catboost) (9.4.0)\n",
      "Requirement already satisfied: pyparsing>=2.3.1 in /usr/local/lib/python3.10/dist-packages (from matplotlib->catboost) (3.1.1)\n",
      "Requirement already satisfied: tenacity>=6.2.0 in /usr/local/lib/python3.10/dist-packages (from plotly->catboost) (8.2.3)\n",
      "Installing collected packages: catboost\n",
      "Successfully installed catboost-1.2.2\n"
     ]
    }
   ],
   "source": [
    "!pip install catboost"
   ]
  },
  {
   "cell_type": "code",
   "execution_count": 1,
   "id": "065a2fcc-33aa-4632-8184-c627a07702d1",
   "metadata": {
    "id": "065a2fcc-33aa-4632-8184-c627a07702d1"
   },
   "outputs": [],
   "source": [
    "\n",
    "import pandas as pd\n",
    "import numpy as np\n",
    "from numpy import where\n",
    "import csv\n",
    "\n",
    "import seaborn as sns\n",
    "sns.set_theme(style=\"whitegrid\")\n",
    "import matplotlib.pyplot as plt\n",
    "\n",
    "\n",
    "from sklearn import preprocessing\n",
    "from sklearn.preprocessing import OneHotEncoder\n",
    "from sklearn.model_selection import train_test_split\n",
    "from sklearn.preprocessing import StandardScaler\n",
    "from sklearn.metrics import make_scorer, accuracy_score, precision_score, recall_score, f1_score, log_loss\n",
    "from sklearn.model_selection import cross_val_score\n",
    "\n",
    "\n",
    "from plotly.subplots import make_subplots\n",
    "import plotly.graph_objs as go\n",
    "import plotly.io as pio\n",
    "import plotly.offline as pyo\n",
    "from collections import Counter\n",
    "\n",
    "\n",
    "from imblearn.over_sampling import RandomOverSampler\n",
    "import warnings\n",
    "warnings.filterwarnings(action='ignore')\n",
    "from tabulate import tabulate\n",
    "\n",
    "import imblearn\n",
    "from imblearn.over_sampling import SMOTE\n",
    "from imblearn.under_sampling import RandomUnderSampler\n",
    "from imblearn.ensemble import BalancedRandomForestClassifier\n",
    "\n",
    "from sklearn.ensemble import RandomForestClassifier, AdaBoostClassifier, GradientBoostingClassifier ,ExtraTreesClassifier\n",
    "from xgboost import XGBClassifier,plot_tree\n",
    "from lightgbm import LGBMClassifier\n",
    "import catboost as cb\n",
    "from catboost import CatBoostClassifier,Pool\n",
    "import optuna\n",
    "from optuna.integration import CatBoostPruningCallback\n",
    "import xgboost as xgb\n",
    "\n",
    "from sklearn.ensemble import BaggingClassifier\n",
    "from sklearn.datasets import make_classification\n",
    "\n",
    "from sklearn.svm import SVC\n",
    "from sklearn.tree import DecisionTreeClassifier\n",
    "from sklearn.neighbors import KNeighborsClassifier"
   ]
  },
  {
   "cell_type": "code",
   "execution_count": 2,
   "id": "f781c2e2-81ad-40cc-99da-1d2f5929935a",
   "metadata": {},
   "outputs": [],
   "source": [
    "from sklearn.model_selection import cross_validate\n",
    "from sklearn.metrics import make_scorer, accuracy_score, precision_score, recall_score, f1_score"
   ]
  },
  {
   "cell_type": "code",
   "execution_count": 3,
   "id": "141bad92-717c-4928-b354-2a39086fbc1e",
   "metadata": {
    "id": "141bad92-717c-4928-b354-2a39086fbc1e"
   },
   "outputs": [],
   "source": [
    "from mlxtend.classifier import EnsembleVoteClassifier\n",
    "from sklearn.metrics import classification_report, confusion_matrix, log_loss"
   ]
  },
  {
   "cell_type": "code",
   "execution_count": 4,
   "id": "0b7fd0ef-23ad-494d-9cdf-d673d729f489",
   "metadata": {},
   "outputs": [],
   "source": [
    "from hyperopt import fmin, tpe, hp, rand, Trials, STATUS_OK"
   ]
  },
  {
   "cell_type": "code",
   "execution_count": 5,
   "id": "4208c242-2c6f-44ba-adaa-22530d5d6d58",
   "metadata": {
    "id": "4208c242-2c6f-44ba-adaa-22530d5d6d58"
   },
   "outputs": [],
   "source": [
    "from IPython.display import Image"
   ]
  },
  {
   "cell_type": "code",
   "execution_count": 19,
   "id": "5da727d2-019c-4c13-bdf7-c4a03a182e00",
   "metadata": {},
   "outputs": [],
   "source": [
    "import time"
   ]
  },
  {
   "cell_type": "markdown",
   "id": "d7961711-064d-46b3-8f94-bfd4a9fad0dd",
   "metadata": {
    "colab": {
     "base_uri": "https://localhost:8080/",
     "height": 73
    },
    "id": "WpPXB9ArvDs9",
    "outputId": "a2d5009d-c184-4c79-be5b-ec316b3ce29a"
   },
   "source": [
    "from google.colab import files\n",
    "uploaded = files.upload()"
   ]
  },
  {
   "cell_type": "code",
   "execution_count": 6,
   "id": "b4a58158",
   "metadata": {
    "colab": {
     "base_uri": "https://localhost:8080/",
     "height": 461
    },
    "id": "b4a58158",
    "outputId": "6fb98931-cf02-46da-c0fb-5971760e96cd"
   },
   "outputs": [
    {
     "data": {
      "text/html": [
       "<div>\n",
       "<style scoped>\n",
       "    .dataframe tbody tr th:only-of-type {\n",
       "        vertical-align: middle;\n",
       "    }\n",
       "\n",
       "    .dataframe tbody tr th {\n",
       "        vertical-align: top;\n",
       "    }\n",
       "\n",
       "    .dataframe thead th {\n",
       "        text-align: right;\n",
       "    }\n",
       "</style>\n",
       "<table border=\"1\" class=\"dataframe\">\n",
       "  <thead>\n",
       "    <tr style=\"text-align: right;\">\n",
       "      <th></th>\n",
       "      <th>gender</th>\n",
       "      <th>age</th>\n",
       "      <th>hypertension</th>\n",
       "      <th>heart_disease</th>\n",
       "      <th>ever_married</th>\n",
       "      <th>Residence_type</th>\n",
       "      <th>avg_glucose_level</th>\n",
       "      <th>bmi</th>\n",
       "      <th>stroke</th>\n",
       "      <th>formerly smoked</th>\n",
       "      <th>never smoked</th>\n",
       "      <th>smokes</th>\n",
       "      <th>work_Govt_job</th>\n",
       "      <th>work_Never_worked</th>\n",
       "      <th>work_Private</th>\n",
       "      <th>work_Self-employed</th>\n",
       "      <th>work_children</th>\n",
       "    </tr>\n",
       "  </thead>\n",
       "  <tbody>\n",
       "    <tr>\n",
       "      <th>0</th>\n",
       "      <td>0</td>\n",
       "      <td>3</td>\n",
       "      <td>0</td>\n",
       "      <td>0</td>\n",
       "      <td>0</td>\n",
       "      <td>0</td>\n",
       "      <td>95</td>\n",
       "      <td>18</td>\n",
       "      <td>0</td>\n",
       "      <td>0</td>\n",
       "      <td>1</td>\n",
       "      <td>0</td>\n",
       "      <td>0</td>\n",
       "      <td>0</td>\n",
       "      <td>0</td>\n",
       "      <td>0</td>\n",
       "      <td>1</td>\n",
       "    </tr>\n",
       "    <tr>\n",
       "      <th>1</th>\n",
       "      <td>0</td>\n",
       "      <td>58</td>\n",
       "      <td>1</td>\n",
       "      <td>0</td>\n",
       "      <td>1</td>\n",
       "      <td>1</td>\n",
       "      <td>87</td>\n",
       "      <td>39</td>\n",
       "      <td>0</td>\n",
       "      <td>0</td>\n",
       "      <td>1</td>\n",
       "      <td>0</td>\n",
       "      <td>0</td>\n",
       "      <td>0</td>\n",
       "      <td>1</td>\n",
       "      <td>0</td>\n",
       "      <td>0</td>\n",
       "    </tr>\n",
       "    <tr>\n",
       "      <th>2</th>\n",
       "      <td>1</td>\n",
       "      <td>8</td>\n",
       "      <td>0</td>\n",
       "      <td>0</td>\n",
       "      <td>1</td>\n",
       "      <td>1</td>\n",
       "      <td>110</td>\n",
       "      <td>17</td>\n",
       "      <td>0</td>\n",
       "      <td>0</td>\n",
       "      <td>1</td>\n",
       "      <td>0</td>\n",
       "      <td>0</td>\n",
       "      <td>0</td>\n",
       "      <td>1</td>\n",
       "      <td>0</td>\n",
       "      <td>0</td>\n",
       "    </tr>\n",
       "    <tr>\n",
       "      <th>3</th>\n",
       "      <td>1</td>\n",
       "      <td>70</td>\n",
       "      <td>0</td>\n",
       "      <td>0</td>\n",
       "      <td>0</td>\n",
       "      <td>0</td>\n",
       "      <td>69</td>\n",
       "      <td>35</td>\n",
       "      <td>0</td>\n",
       "      <td>1</td>\n",
       "      <td>0</td>\n",
       "      <td>0</td>\n",
       "      <td>0</td>\n",
       "      <td>0</td>\n",
       "      <td>1</td>\n",
       "      <td>0</td>\n",
       "      <td>0</td>\n",
       "    </tr>\n",
       "    <tr>\n",
       "      <th>4</th>\n",
       "      <td>1</td>\n",
       "      <td>52</td>\n",
       "      <td>0</td>\n",
       "      <td>0</td>\n",
       "      <td>1</td>\n",
       "      <td>1</td>\n",
       "      <td>77</td>\n",
       "      <td>17</td>\n",
       "      <td>0</td>\n",
       "      <td>1</td>\n",
       "      <td>0</td>\n",
       "      <td>0</td>\n",
       "      <td>0</td>\n",
       "      <td>0</td>\n",
       "      <td>1</td>\n",
       "      <td>0</td>\n",
       "      <td>0</td>\n",
       "    </tr>\n",
       "    <tr>\n",
       "      <th>...</th>\n",
       "      <td>...</td>\n",
       "      <td>...</td>\n",
       "      <td>...</td>\n",
       "      <td>...</td>\n",
       "      <td>...</td>\n",
       "      <td>...</td>\n",
       "      <td>...</td>\n",
       "      <td>...</td>\n",
       "      <td>...</td>\n",
       "      <td>...</td>\n",
       "      <td>...</td>\n",
       "      <td>...</td>\n",
       "      <td>...</td>\n",
       "      <td>...</td>\n",
       "      <td>...</td>\n",
       "      <td>...</td>\n",
       "      <td>...</td>\n",
       "    </tr>\n",
       "    <tr>\n",
       "      <th>34607</th>\n",
       "      <td>1</td>\n",
       "      <td>10</td>\n",
       "      <td>0</td>\n",
       "      <td>0</td>\n",
       "      <td>1</td>\n",
       "      <td>1</td>\n",
       "      <td>58</td>\n",
       "      <td>20</td>\n",
       "      <td>0</td>\n",
       "      <td>0</td>\n",
       "      <td>1</td>\n",
       "      <td>0</td>\n",
       "      <td>0</td>\n",
       "      <td>0</td>\n",
       "      <td>0</td>\n",
       "      <td>0</td>\n",
       "      <td>1</td>\n",
       "    </tr>\n",
       "    <tr>\n",
       "      <th>34608</th>\n",
       "      <td>1</td>\n",
       "      <td>56</td>\n",
       "      <td>0</td>\n",
       "      <td>0</td>\n",
       "      <td>1</td>\n",
       "      <td>1</td>\n",
       "      <td>213</td>\n",
       "      <td>55</td>\n",
       "      <td>0</td>\n",
       "      <td>1</td>\n",
       "      <td>0</td>\n",
       "      <td>0</td>\n",
       "      <td>1</td>\n",
       "      <td>0</td>\n",
       "      <td>0</td>\n",
       "      <td>0</td>\n",
       "      <td>0</td>\n",
       "    </tr>\n",
       "    <tr>\n",
       "      <th>34609</th>\n",
       "      <td>1</td>\n",
       "      <td>82</td>\n",
       "      <td>1</td>\n",
       "      <td>0</td>\n",
       "      <td>1</td>\n",
       "      <td>1</td>\n",
       "      <td>91</td>\n",
       "      <td>28</td>\n",
       "      <td>0</td>\n",
       "      <td>1</td>\n",
       "      <td>0</td>\n",
       "      <td>0</td>\n",
       "      <td>0</td>\n",
       "      <td>0</td>\n",
       "      <td>1</td>\n",
       "      <td>0</td>\n",
       "      <td>0</td>\n",
       "    </tr>\n",
       "    <tr>\n",
       "      <th>34610</th>\n",
       "      <td>0</td>\n",
       "      <td>40</td>\n",
       "      <td>0</td>\n",
       "      <td>0</td>\n",
       "      <td>1</td>\n",
       "      <td>1</td>\n",
       "      <td>99</td>\n",
       "      <td>33</td>\n",
       "      <td>0</td>\n",
       "      <td>0</td>\n",
       "      <td>1</td>\n",
       "      <td>0</td>\n",
       "      <td>0</td>\n",
       "      <td>0</td>\n",
       "      <td>1</td>\n",
       "      <td>0</td>\n",
       "      <td>0</td>\n",
       "    </tr>\n",
       "    <tr>\n",
       "      <th>34611</th>\n",
       "      <td>1</td>\n",
       "      <td>82</td>\n",
       "      <td>0</td>\n",
       "      <td>0</td>\n",
       "      <td>1</td>\n",
       "      <td>1</td>\n",
       "      <td>79</td>\n",
       "      <td>20</td>\n",
       "      <td>0</td>\n",
       "      <td>0</td>\n",
       "      <td>1</td>\n",
       "      <td>0</td>\n",
       "      <td>0</td>\n",
       "      <td>0</td>\n",
       "      <td>1</td>\n",
       "      <td>0</td>\n",
       "      <td>0</td>\n",
       "    </tr>\n",
       "  </tbody>\n",
       "</table>\n",
       "<p>34612 rows × 17 columns</p>\n",
       "</div>"
      ],
      "text/plain": [
       "       gender  age  hypertension  heart_disease  ever_married  Residence_type  \\\n",
       "0           0    3             0              0             0               0   \n",
       "1           0   58             1              0             1               1   \n",
       "2           1    8             0              0             1               1   \n",
       "3           1   70             0              0             0               0   \n",
       "4           1   52             0              0             1               1   \n",
       "...       ...  ...           ...            ...           ...             ...   \n",
       "34607       1   10             0              0             1               1   \n",
       "34608       1   56             0              0             1               1   \n",
       "34609       1   82             1              0             1               1   \n",
       "34610       0   40             0              0             1               1   \n",
       "34611       1   82             0              0             1               1   \n",
       "\n",
       "       avg_glucose_level  bmi  stroke  formerly smoked  never smoked  smokes  \\\n",
       "0                     95   18       0                0             1       0   \n",
       "1                     87   39       0                0             1       0   \n",
       "2                    110   17       0                0             1       0   \n",
       "3                     69   35       0                1             0       0   \n",
       "4                     77   17       0                1             0       0   \n",
       "...                  ...  ...     ...              ...           ...     ...   \n",
       "34607                 58   20       0                0             1       0   \n",
       "34608                213   55       0                1             0       0   \n",
       "34609                 91   28       0                1             0       0   \n",
       "34610                 99   33       0                0             1       0   \n",
       "34611                 79   20       0                0             1       0   \n",
       "\n",
       "       work_Govt_job  work_Never_worked  work_Private  work_Self-employed  \\\n",
       "0                  0                  0             0                   0   \n",
       "1                  0                  0             1                   0   \n",
       "2                  0                  0             1                   0   \n",
       "3                  0                  0             1                   0   \n",
       "4                  0                  0             1                   0   \n",
       "...              ...                ...           ...                 ...   \n",
       "34607              0                  0             0                   0   \n",
       "34608              1                  0             0                   0   \n",
       "34609              0                  0             1                   0   \n",
       "34610              0                  0             1                   0   \n",
       "34611              0                  0             1                   0   \n",
       "\n",
       "       work_children  \n",
       "0                  1  \n",
       "1                  0  \n",
       "2                  0  \n",
       "3                  0  \n",
       "4                  0  \n",
       "...              ...  \n",
       "34607              1  \n",
       "34608              0  \n",
       "34609              0  \n",
       "34610              0  \n",
       "34611              0  \n",
       "\n",
       "[34612 rows x 17 columns]"
      ]
     },
     "execution_count": 6,
     "metadata": {},
     "output_type": "execute_result"
    }
   ],
   "source": [
    "data = pd.read_csv('second.csv')\n",
    "data"
   ]
  },
  {
   "cell_type": "markdown",
   "id": "c2979b24",
   "metadata": {
    "id": "c2979b24"
   },
   "source": [
    "## Train-Test Split"
   ]
  },
  {
   "cell_type": "code",
   "execution_count": 7,
   "id": "d1469211",
   "metadata": {
    "id": "d1469211"
   },
   "outputs": [],
   "source": [
    "y = data['stroke']\n",
    "X = data.drop('stroke', axis=1)"
   ]
  },
  {
   "cell_type": "code",
   "execution_count": 8,
   "id": "5d4ee78a",
   "metadata": {
    "id": "5d4ee78a"
   },
   "outputs": [],
   "source": [
    "X_train, X_test, y_train, y_test = train_test_split(X, y, test_size= 0.2, random_state= 42)"
   ]
  },
  {
   "cell_type": "code",
   "execution_count": 9,
   "id": "5884b330-a2af-47d2-8a3e-5be925bf75e1",
   "metadata": {
    "colab": {
     "base_uri": "https://localhost:8080/"
    },
    "id": "5884b330-a2af-47d2-8a3e-5be925bf75e1",
    "outputId": "1cfe0c7d-9ebc-4e51-c29a-0f869be02dce"
   },
   "outputs": [
    {
     "data": {
      "text/plain": [
       "17561    0\n",
       "30884    0\n",
       "251      0\n",
       "30728    0\n",
       "22327    0\n",
       "        ..\n",
       "22524    0\n",
       "5511     0\n",
       "26349    0\n",
       "1266     0\n",
       "33675    0\n",
       "Name: stroke, Length: 6923, dtype: int64"
      ]
     },
     "execution_count": 9,
     "metadata": {},
     "output_type": "execute_result"
    }
   ],
   "source": [
    "y_test"
   ]
  },
  {
   "cell_type": "markdown",
   "id": "08de103b-6f22-4231-a79d-d3db61dfbc3a",
   "metadata": {
    "id": "08de103b-6f22-4231-a79d-d3db61dfbc3a"
   },
   "source": [
    "**Random_state** – это параметр, который позволяет установить начальные условия для генерации случайных чисел. Он используется для получения повторяемых результатов в тех случаях, когда необходимо произвести несколько экспериментов с одним и тем же набором данных. При этом может быть установлено любое исходное значение для данного параметра.\n",
    "\n",
    "Суть параметра **random_state** (во всех функциях и методах из SciKit-Learn) в воспроизводимых случайных значениях. Т.е. если явно задать значение random_state отличным от None - то генерируемые псевдослучайные величины будут иметь одни и те же значения при каждом вызове."
   ]
  },
  {
   "cell_type": "code",
   "execution_count": 10,
   "id": "b420c1c1-b5d8-49eb-a88c-edf76d83e059",
   "metadata": {},
   "outputs": [
    {
     "data": {
      "text/html": [
       "<div>\n",
       "<style scoped>\n",
       "    .dataframe tbody tr th:only-of-type {\n",
       "        vertical-align: middle;\n",
       "    }\n",
       "\n",
       "    .dataframe tbody tr th {\n",
       "        vertical-align: top;\n",
       "    }\n",
       "\n",
       "    .dataframe thead th {\n",
       "        text-align: right;\n",
       "    }\n",
       "</style>\n",
       "<table border=\"1\" class=\"dataframe\">\n",
       "  <thead>\n",
       "    <tr style=\"text-align: right;\">\n",
       "      <th></th>\n",
       "      <th>gender</th>\n",
       "      <th>age</th>\n",
       "      <th>hypertension</th>\n",
       "      <th>heart_disease</th>\n",
       "      <th>ever_married</th>\n",
       "      <th>Residence_type</th>\n",
       "      <th>avg_glucose_level</th>\n",
       "      <th>bmi</th>\n",
       "      <th>formerly smoked</th>\n",
       "      <th>never smoked</th>\n",
       "      <th>smokes</th>\n",
       "      <th>work_Govt_job</th>\n",
       "      <th>work_Never_worked</th>\n",
       "      <th>work_Private</th>\n",
       "      <th>work_Self-employed</th>\n",
       "      <th>work_children</th>\n",
       "    </tr>\n",
       "  </thead>\n",
       "  <tbody>\n",
       "    <tr>\n",
       "      <th>21578</th>\n",
       "      <td>0</td>\n",
       "      <td>50</td>\n",
       "      <td>0</td>\n",
       "      <td>1</td>\n",
       "      <td>1</td>\n",
       "      <td>1</td>\n",
       "      <td>79</td>\n",
       "      <td>22</td>\n",
       "      <td>0</td>\n",
       "      <td>0</td>\n",
       "      <td>1</td>\n",
       "      <td>0</td>\n",
       "      <td>0</td>\n",
       "      <td>0</td>\n",
       "      <td>1</td>\n",
       "      <td>0</td>\n",
       "    </tr>\n",
       "    <tr>\n",
       "      <th>30719</th>\n",
       "      <td>0</td>\n",
       "      <td>26</td>\n",
       "      <td>0</td>\n",
       "      <td>0</td>\n",
       "      <td>0</td>\n",
       "      <td>0</td>\n",
       "      <td>71</td>\n",
       "      <td>25</td>\n",
       "      <td>0</td>\n",
       "      <td>0</td>\n",
       "      <td>1</td>\n",
       "      <td>0</td>\n",
       "      <td>0</td>\n",
       "      <td>1</td>\n",
       "      <td>0</td>\n",
       "      <td>0</td>\n",
       "    </tr>\n",
       "    <tr>\n",
       "      <th>31532</th>\n",
       "      <td>1</td>\n",
       "      <td>81</td>\n",
       "      <td>0</td>\n",
       "      <td>0</td>\n",
       "      <td>1</td>\n",
       "      <td>1</td>\n",
       "      <td>105</td>\n",
       "      <td>47</td>\n",
       "      <td>1</td>\n",
       "      <td>0</td>\n",
       "      <td>0</td>\n",
       "      <td>0</td>\n",
       "      <td>0</td>\n",
       "      <td>1</td>\n",
       "      <td>0</td>\n",
       "      <td>0</td>\n",
       "    </tr>\n",
       "    <tr>\n",
       "      <th>8220</th>\n",
       "      <td>1</td>\n",
       "      <td>73</td>\n",
       "      <td>0</td>\n",
       "      <td>0</td>\n",
       "      <td>0</td>\n",
       "      <td>0</td>\n",
       "      <td>118</td>\n",
       "      <td>22</td>\n",
       "      <td>0</td>\n",
       "      <td>0</td>\n",
       "      <td>1</td>\n",
       "      <td>0</td>\n",
       "      <td>0</td>\n",
       "      <td>0</td>\n",
       "      <td>1</td>\n",
       "      <td>0</td>\n",
       "    </tr>\n",
       "    <tr>\n",
       "      <th>4459</th>\n",
       "      <td>1</td>\n",
       "      <td>31</td>\n",
       "      <td>0</td>\n",
       "      <td>0</td>\n",
       "      <td>1</td>\n",
       "      <td>1</td>\n",
       "      <td>77</td>\n",
       "      <td>24</td>\n",
       "      <td>0</td>\n",
       "      <td>1</td>\n",
       "      <td>0</td>\n",
       "      <td>0</td>\n",
       "      <td>0</td>\n",
       "      <td>1</td>\n",
       "      <td>0</td>\n",
       "      <td>0</td>\n",
       "    </tr>\n",
       "    <tr>\n",
       "      <th>...</th>\n",
       "      <td>...</td>\n",
       "      <td>...</td>\n",
       "      <td>...</td>\n",
       "      <td>...</td>\n",
       "      <td>...</td>\n",
       "      <td>...</td>\n",
       "      <td>...</td>\n",
       "      <td>...</td>\n",
       "      <td>...</td>\n",
       "      <td>...</td>\n",
       "      <td>...</td>\n",
       "      <td>...</td>\n",
       "      <td>...</td>\n",
       "      <td>...</td>\n",
       "      <td>...</td>\n",
       "      <td>...</td>\n",
       "    </tr>\n",
       "    <tr>\n",
       "      <th>16850</th>\n",
       "      <td>0</td>\n",
       "      <td>64</td>\n",
       "      <td>1</td>\n",
       "      <td>0</td>\n",
       "      <td>1</td>\n",
       "      <td>1</td>\n",
       "      <td>85</td>\n",
       "      <td>35</td>\n",
       "      <td>0</td>\n",
       "      <td>1</td>\n",
       "      <td>0</td>\n",
       "      <td>0</td>\n",
       "      <td>0</td>\n",
       "      <td>1</td>\n",
       "      <td>0</td>\n",
       "      <td>0</td>\n",
       "    </tr>\n",
       "    <tr>\n",
       "      <th>6265</th>\n",
       "      <td>1</td>\n",
       "      <td>38</td>\n",
       "      <td>0</td>\n",
       "      <td>0</td>\n",
       "      <td>0</td>\n",
       "      <td>0</td>\n",
       "      <td>147</td>\n",
       "      <td>27</td>\n",
       "      <td>0</td>\n",
       "      <td>1</td>\n",
       "      <td>0</td>\n",
       "      <td>1</td>\n",
       "      <td>0</td>\n",
       "      <td>0</td>\n",
       "      <td>0</td>\n",
       "      <td>0</td>\n",
       "    </tr>\n",
       "    <tr>\n",
       "      <th>11284</th>\n",
       "      <td>1</td>\n",
       "      <td>31</td>\n",
       "      <td>0</td>\n",
       "      <td>0</td>\n",
       "      <td>1</td>\n",
       "      <td>1</td>\n",
       "      <td>71</td>\n",
       "      <td>63</td>\n",
       "      <td>0</td>\n",
       "      <td>1</td>\n",
       "      <td>0</td>\n",
       "      <td>0</td>\n",
       "      <td>0</td>\n",
       "      <td>1</td>\n",
       "      <td>0</td>\n",
       "      <td>0</td>\n",
       "    </tr>\n",
       "    <tr>\n",
       "      <th>860</th>\n",
       "      <td>0</td>\n",
       "      <td>44</td>\n",
       "      <td>0</td>\n",
       "      <td>0</td>\n",
       "      <td>0</td>\n",
       "      <td>0</td>\n",
       "      <td>87</td>\n",
       "      <td>26</td>\n",
       "      <td>0</td>\n",
       "      <td>1</td>\n",
       "      <td>0</td>\n",
       "      <td>1</td>\n",
       "      <td>0</td>\n",
       "      <td>0</td>\n",
       "      <td>0</td>\n",
       "      <td>0</td>\n",
       "    </tr>\n",
       "    <tr>\n",
       "      <th>15795</th>\n",
       "      <td>1</td>\n",
       "      <td>59</td>\n",
       "      <td>0</td>\n",
       "      <td>0</td>\n",
       "      <td>0</td>\n",
       "      <td>0</td>\n",
       "      <td>81</td>\n",
       "      <td>27</td>\n",
       "      <td>0</td>\n",
       "      <td>1</td>\n",
       "      <td>0</td>\n",
       "      <td>1</td>\n",
       "      <td>0</td>\n",
       "      <td>0</td>\n",
       "      <td>0</td>\n",
       "      <td>0</td>\n",
       "    </tr>\n",
       "  </tbody>\n",
       "</table>\n",
       "<p>27689 rows × 16 columns</p>\n",
       "</div>"
      ],
      "text/plain": [
       "       gender  age  hypertension  heart_disease  ever_married  Residence_type  \\\n",
       "21578       0   50             0              1             1               1   \n",
       "30719       0   26             0              0             0               0   \n",
       "31532       1   81             0              0             1               1   \n",
       "8220        1   73             0              0             0               0   \n",
       "4459        1   31             0              0             1               1   \n",
       "...       ...  ...           ...            ...           ...             ...   \n",
       "16850       0   64             1              0             1               1   \n",
       "6265        1   38             0              0             0               0   \n",
       "11284       1   31             0              0             1               1   \n",
       "860         0   44             0              0             0               0   \n",
       "15795       1   59             0              0             0               0   \n",
       "\n",
       "       avg_glucose_level  bmi  formerly smoked  never smoked  smokes  \\\n",
       "21578                 79   22                0             0       1   \n",
       "30719                 71   25                0             0       1   \n",
       "31532                105   47                1             0       0   \n",
       "8220                 118   22                0             0       1   \n",
       "4459                  77   24                0             1       0   \n",
       "...                  ...  ...              ...           ...     ...   \n",
       "16850                 85   35                0             1       0   \n",
       "6265                 147   27                0             1       0   \n",
       "11284                 71   63                0             1       0   \n",
       "860                   87   26                0             1       0   \n",
       "15795                 81   27                0             1       0   \n",
       "\n",
       "       work_Govt_job  work_Never_worked  work_Private  work_Self-employed  \\\n",
       "21578              0                  0             0                   1   \n",
       "30719              0                  0             1                   0   \n",
       "31532              0                  0             1                   0   \n",
       "8220               0                  0             0                   1   \n",
       "4459               0                  0             1                   0   \n",
       "...              ...                ...           ...                 ...   \n",
       "16850              0                  0             1                   0   \n",
       "6265               1                  0             0                   0   \n",
       "11284              0                  0             1                   0   \n",
       "860                1                  0             0                   0   \n",
       "15795              1                  0             0                   0   \n",
       "\n",
       "       work_children  \n",
       "21578              0  \n",
       "30719              0  \n",
       "31532              0  \n",
       "8220               0  \n",
       "4459               0  \n",
       "...              ...  \n",
       "16850              0  \n",
       "6265               0  \n",
       "11284              0  \n",
       "860                0  \n",
       "15795              0  \n",
       "\n",
       "[27689 rows x 16 columns]"
      ]
     },
     "execution_count": 10,
     "metadata": {},
     "output_type": "execute_result"
    }
   ],
   "source": [
    "X_train"
   ]
  },
  {
   "cell_type": "code",
   "execution_count": 11,
   "id": "f6ff412e-190d-4d6f-89e9-a9eab9f3dca7",
   "metadata": {
    "colab": {
     "base_uri": "https://localhost:8080/"
    },
    "id": "f6ff412e-190d-4d6f-89e9-a9eab9f3dca7",
    "outputId": "b38c00ca-7cb0-4e59-8b22-a7110cc932c7"
   },
   "outputs": [
    {
     "data": {
      "text/plain": [
       "Counter({0: 27187, 1: 502})"
      ]
     },
     "execution_count": 11,
     "metadata": {},
     "output_type": "execute_result"
    }
   ],
   "source": [
    "#counter = y_train.value_counts()\n",
    "#counter\n",
    "# summarize class distribution\n",
    "cou = Counter(y_train)\n",
    "cou"
   ]
  },
  {
   "cell_type": "markdown",
   "id": "4cdc7330",
   "metadata": {
    "id": "4cdc7330"
   },
   "source": [
    "## Feature Scaling\n",
    "\n",
    "возможно, потребуется масштабировать(стандартизация или нормализация) перед использованием в методах машинного обучения,особенно для  таких как линейная регрессия, логистическая регрессия, нейронные сети, которые используют градиентный спуск в качестве стратегии оптимизации.\n",
    "Изменение масштаба данных может осуществляться двумя способами: стандартизацией и нормализацией.\n",
    "Техника масштабирования**: нормализац**ия изменяет масштаб данных так, чтобы данные находились в диапазоне от 0 до 1 (масштабирование Min-Max\n",
    ").\n",
    "Набор данных масштабируется посредств**ом стандартиза**ции, имеет среднее значение = 0 и стандартное отклонение = 1.                            std_per_feature =X_train.std()\n",
    "print(std_per_feature)\n"
   ]
  },
  {
   "cell_type": "markdown",
   "id": "41bc88bd-748c-4e9b-8496-15492f0d896e",
   "metadata": {
    "id": "41bc88bd-748c-4e9b-8496-15492f0d896e"
   },
   "source": [
    "***Масштабирование или стандартизация данных***. Это этап предварительной обработки данных, который применяется к независимым переменным или функциям данных. Это в основном помогает нормализовать данные в определенном диапазоне. Иногда это также помогает ускорить вычисления в алгоритме.\n",
    "Каждый метод масштабирования имеет свои преимущества и ограничения, и не существует метода, подходящего для любой ситуации. Нам следует понять каждый метод, реализовать его и посмотреть, какой из них лучше всего подходит для конкретной проблемы.\n",
    "\n",
    "***StandardScaler()*** преобразует данные таким образом, что их распределение будет иметь среднее значение 0 и стандартное отклонение 1. Это делается путем вычитания среднего значения каждого признака и деления на его стандартное отклонение.\n",
    "\n",
    "Применение StandardScaler() помогает алгоритмам машинного обучения работать лучше, особенно если у признаков разные диапазоны значений. Масштабирование признаков позволяет моделям лучше справляться с данными, так как оно делает их более сопоставимыми и улучшает сходимость алгоритмов."
   ]
  },
  {
   "cell_type": "code",
   "execution_count": 12,
   "id": "8cd8c178",
   "metadata": {
    "id": "8cd8c178"
   },
   "outputs": [],
   "source": [
    "sc = StandardScaler()\n",
    "X_train_sc = sc.fit_transform(X_train)\n",
    "X_test_sc = sc.fit_transform(X_test)\n",
    "\n"
   ]
  },
  {
   "cell_type": "code",
   "execution_count": 13,
   "id": "b83e9003-e409-4ea9-af1a-2e5a652cd091",
   "metadata": {
    "colab": {
     "base_uri": "https://localhost:8080/"
    },
    "id": "b83e9003-e409-4ea9-af1a-2e5a652cd091",
    "outputId": "85b959e9-c0f7-4d9a-e390-3adf9bf3e0df"
   },
   "outputs": [],
   "source": [
    "#X_train_sc"
   ]
  },
  {
   "cell_type": "code",
   "execution_count": 14,
   "id": "b198b8ee-99de-418f-91f0-5ea56ee2a46f",
   "metadata": {},
   "outputs": [],
   "source": [
    "#X_test_sc"
   ]
  },
  {
   "cell_type": "code",
   "execution_count": 15,
   "id": "5bac3252-fc77-4391-9725-ff6fee15d4e8",
   "metadata": {
    "colab": {
     "base_uri": "https://localhost:8080/"
    },
    "id": "5bac3252-fc77-4391-9725-ff6fee15d4e8",
    "outputId": "e9de7db2-d847-4a68-be86-2c530f1aa5ab"
   },
   "outputs": [],
   "source": [
    "#std_per_feature = X_train_sc.std()\n",
    "#print(std_per_feature)"
   ]
  },
  {
   "cell_type": "code",
   "execution_count": 16,
   "id": "c530b92d-619c-4d83-9fe4-033962170c40",
   "metadata": {
    "colab": {
     "base_uri": "https://localhost:8080/"
    },
    "id": "c530b92d-619c-4d83-9fe4-033962170c40",
    "outputId": "d046d097-56cf-43d3-fdbd-245ef6c3778e"
   },
   "outputs": [
    {
     "name": "stdout",
     "output_type": "stream",
     "text": [
      "-1.1627891117096877e-18\n"
     ]
    }
   ],
   "source": [
    "mean_per_feature = X_train_sc.mean()\n",
    "print(mean_per_feature)"
   ]
  },
  {
   "cell_type": "code",
   "execution_count": 17,
   "id": "7a99bdae",
   "metadata": {
    "colab": {
     "base_uri": "https://localhost:8080/"
    },
    "id": "7a99bdae",
    "outputId": "704757dc-9bbf-4a67-b135-230f8cf9a09e"
   },
   "outputs": [
    {
     "name": "stdout",
     "output_type": "stream",
     "text": [
      "27689\n",
      "6923\n"
     ]
    }
   ],
   "source": [
    "print(len(X_train_sc))\n",
    "print(len(X_test_sc))"
   ]
  },
  {
   "cell_type": "markdown",
   "id": "1797ada0",
   "metadata": {
    "id": "1797ada0"
   },
   "source": [
    "# Handling Imbalance data using SMOTE"
   ]
  },
  {
   "cell_type": "code",
   "execution_count": 18,
   "id": "3bc935b4",
   "metadata": {
    "colab": {
     "base_uri": "https://localhost:8080/"
    },
    "id": "3bc935b4",
    "outputId": "60934fc0-52f1-4c42-e14a-b8f4e024fcf8"
   },
   "outputs": [
    {
     "name": "stdout",
     "output_type": "stream",
     "text": [
      "Before Smote, counts of label '1': 502\n",
      "Before Smote, counts of label '0': 27187 \n",
      "\n",
      "After Smote, the shape of train_X: (54374, 16)\n",
      "After Smote, the shape of train_y: (54374,) \n",
      "\n",
      "After Smote, counts of label '1': 27187\n",
      "After Smote, counts of label '0': 27187\n"
     ]
    }
   ],
   "source": [
    "\n",
    "print(\"Before Smote, counts of label '1': {}\".format(sum(y_train==1)))\n",
    "print(\"Before Smote, counts of label '0': {} \\n\".format(sum(y_train==0)))\n",
    "\n",
    "sm = SMOTE(random_state=42)\n",
    "#Функция ravel() в библиотеке NumPy используется для преобразования многомерного массива в одномерный массив.\n",
    "#Она возвращает новый одномерный массив, содержащий те же элементы, что и исходный массив, но расположенные в одномерной последовательности.\n",
    "X_train_smote, y_train_smote = sm.fit_resample(X_train, y_train.ravel()) # Skailing (здесь мы применяем масштабированные данные)\n",
    "\n",
    "print('After Smote, the shape of train_X: {}'.format(X_train_smote.shape))\n",
    "print('After Smote, the shape of train_y: {} \\n'.format(y_train_smote.shape))\n",
    "\n",
    "print(\"After Smote, counts of label '1': {}\".format(sum(y_train_smote==1)))\n",
    "print(\"After Smote, counts of label '0': {}\".format(sum(y_train_smote==0)))"
   ]
  },
  {
   "cell_type": "code",
   "execution_count": null,
   "id": "6168c1f1-88ee-40ad-9e20-66f33e46190d",
   "metadata": {
    "id": "6168c1f1-88ee-40ad-9e20-66f33e46190d"
   },
   "outputs": [],
   "source": []
  },
  {
   "cell_type": "markdown",
   "id": "8bc33d3c-7a78-4395-96d7-a7c6201a5534",
   "metadata": {
    "id": "8bc33d3c-7a78-4395-96d7-a7c6201a5534"
   },
   "source": [
    "## Ансамблевые методы в машинном обучении - это методы, которые объединяют несколько моделей для решения задачи. Они строят не одну, а несколько моделей и объединяют их результаты для получения более точных и стабильных предсказаний или классификаций.\n",
    "\n",
    "Методы бэггинга (bagging) используют множество случайных подмножеств обучающих данных для обучения разных моделей и затем усредняют их предсказания.\n",
    "\n",
    "1. **Random Forest** - это метод бэггинга (bagging), который основан на использовании ансамбля решающих деревьев. При Random Forest создается множество решающих деревьев, каждое из которых обучается на случайном подмножестве данных и признаков, после чего результаты этих деревьев усредняются для получения окончательного предсказания.\n",
    "\n",
    "Благодаря случайному выбору подмножества данных и признаков при построении каждого дерева, Random Forest обеспечивает разнообразие моделей и уменьшает переобучение, делая его эффективным методом для работы с широким спектром задач обучения с учителем.\n",
    "\n",
    "2. **Bagged Decision Trees:** Это базовый метод бэггинга, где используются решающие деревья. Каждое дерево обучается на различном подмножестве данных (путем выбора с повторениями) и затем усредняет свои предсказания.\n",
    "\n",
    "3. **Bagged SVM** (Support Vector Machines): Использование бэггинга с SVM. Каждая модель SVM обучается на случайном подмножестве данных, после чего их результаты усредняются.\n",
    "\n",
    "4. **Bagged Neural Networks:** Бэггинг применительно к нейронным сетям. Каждая нейронная сеть обучается на своем подмножестве данных, а затем их результаты комбинируются.\n",
    "\n",
    "5. **Bagged k-Nearest Neighbors (k-NN):** Применение бэггинга к методу k-NN. Каждая модель k-NN обучается на случайном подмножестве данных и затем их предсказания объединяются."
   ]
  },
  {
   "cell_type": "markdown",
   "id": "bdedaf6c-14f3-4443-b960-b2f04feae133",
   "metadata": {
    "id": "bdedaf6c-14f3-4443-b960-b2f04feae133"
   },
   "source": [
    "Бустинг (boosting) строит последовательность моделей, каждая из которых исправляет ошибки предыдущей, улучшая общую производительность.\n",
    "1. **CatBoost:** Это градиентный бустинговый алгоритм, специально оптимизированный для работы с категориальными признаками. Он автоматически обрабатывает категориальные данные и может достигать высокой производительности без особых предварительных настроек.\n",
    "\n",
    "2. **XGBoost:** Экстремальный градиентный бустинг (XGBoost) — это алгоритм градиентного бустинга, который обладает высокой производительностью и эффективностью. Он часто используется в соревнованиях по машинному обучению и широко применяется в практике из-за своей точности.\n",
    "\n",
    "3. **AdaBoost:** Этот метод использует адаптивное взвешивание (Adaptive Boosting) для обучения последовательности слабых моделей (например, деревьев решений) с фокусом на улучшении ошибок предыдущих моделей.\n",
    "\n",
    "4. **Gradient Boosting Machines (GBM):** Это общее название для алгоритмов, которые пошагово строят ансамбль слабых моделей (обычно деревьев решений) и корректируют их ошибки, фокусируясь на тех примерах, на которых предыдущие модели ошиблись.\n",
    "\n",
    "5. **LightGBM:** Это еще один градиентный бустинговый алгоритм, который обеспечивает высокую скорость работы за счет оптимизации структуры деревьев и эффективной обработки больших объемов данных.\n",
    "назаний.еревьям."
   ]
  },
  {
   "cell_type": "markdown",
   "id": "3de489ab-3e36-4631-a661-3049bb152707",
   "metadata": {
    "id": "3de489ab-3e36-4631-a661-3049bb152707"
   },
   "source": [
    "# SMOTE"
   ]
  },
  {
   "cell_type": "markdown",
   "id": "d3b9ee9c-bc2a-4bbf-87c7-1fda5339808f",
   "metadata": {},
   "source": [
    "## 1.BOOSTING"
   ]
  },
  {
   "cell_type": "markdown",
   "id": "3c029fc4-d3fd-4369-b35a-4ec25aaa6a87",
   "metadata": {},
   "source": [
    "### КРОСС-ВАЛИДАЦИЯ"
   ]
  },
  {
   "cell_type": "code",
   "execution_count": 39,
   "id": "52cdb3f2",
   "metadata": {
    "colab": {
     "base_uri": "https://localhost:8080/",
     "height": 206
    },
    "id": "52cdb3f2",
    "outputId": "62c0dc59-416a-43b4-a1d5-1ca2c1f9e7c6"
   },
   "outputs": [
    {
     "data": {
      "text/html": [
       "<div>\n",
       "<style scoped>\n",
       "    .dataframe tbody tr th:only-of-type {\n",
       "        vertical-align: middle;\n",
       "    }\n",
       "\n",
       "    .dataframe tbody tr th {\n",
       "        vertical-align: top;\n",
       "    }\n",
       "\n",
       "    .dataframe thead th {\n",
       "        text-align: right;\n",
       "    }\n",
       "</style>\n",
       "<table border=\"1\" class=\"dataframe\">\n",
       "  <thead>\n",
       "    <tr style=\"text-align: right;\">\n",
       "      <th></th>\n",
       "      <th>fit_time</th>\n",
       "      <th>score_time</th>\n",
       "      <th>accuracy</th>\n",
       "      <th>precision</th>\n",
       "      <th>recall</th>\n",
       "      <th>f1</th>\n",
       "    </tr>\n",
       "  </thead>\n",
       "  <tbody>\n",
       "    <tr>\n",
       "      <th>CatBoostClassifier</th>\n",
       "      <td>42.997393</td>\n",
       "      <td>0.042300</td>\n",
       "      <td>0.989132</td>\n",
       "      <td>0.990593</td>\n",
       "      <td>0.989132</td>\n",
       "      <td>0.989051</td>\n",
       "    </tr>\n",
       "    <tr>\n",
       "      <th>AdaBoostClassifier</th>\n",
       "      <td>3.025200</td>\n",
       "      <td>0.037121</td>\n",
       "      <td>0.818921</td>\n",
       "      <td>0.823043</td>\n",
       "      <td>0.818921</td>\n",
       "      <td>0.818347</td>\n",
       "    </tr>\n",
       "    <tr>\n",
       "      <th>XGBClassifier</th>\n",
       "      <td>0.885185</td>\n",
       "      <td>0.016600</td>\n",
       "      <td>0.979605</td>\n",
       "      <td>0.981081</td>\n",
       "      <td>0.979605</td>\n",
       "      <td>0.979527</td>\n",
       "    </tr>\n",
       "    <tr>\n",
       "      <th>LGBMClassifier</th>\n",
       "      <td>1.314799</td>\n",
       "      <td>0.016800</td>\n",
       "      <td>0.986244</td>\n",
       "      <td>0.987791</td>\n",
       "      <td>0.986244</td>\n",
       "      <td>0.986158</td>\n",
       "    </tr>\n",
       "    <tr>\n",
       "      <th>GradientBoostingClassifier</th>\n",
       "      <td>13.657999</td>\n",
       "      <td>0.013300</td>\n",
       "      <td>0.921581</td>\n",
       "      <td>0.923046</td>\n",
       "      <td>0.921581</td>\n",
       "      <td>0.921508</td>\n",
       "    </tr>\n",
       "  </tbody>\n",
       "</table>\n",
       "</div>"
      ],
      "text/plain": [
       "                             fit_time  score_time  accuracy  precision  \\\n",
       "CatBoostClassifier          42.997393    0.042300  0.989132   0.990593   \n",
       "AdaBoostClassifier           3.025200    0.037121  0.818921   0.823043   \n",
       "XGBClassifier                0.885185    0.016600  0.979605   0.981081   \n",
       "LGBMClassifier               1.314799    0.016800  0.986244   0.987791   \n",
       "GradientBoostingClassifier  13.657999    0.013300  0.921581   0.923046   \n",
       "\n",
       "                              recall        f1  \n",
       "CatBoostClassifier          0.989132  0.989051  \n",
       "AdaBoostClassifier          0.818921  0.818347  \n",
       "XGBClassifier               0.979605  0.979527  \n",
       "LGBMClassifier              0.986244  0.986158  \n",
       "GradientBoostingClassifier  0.921581  0.921508  "
      ]
     },
     "execution_count": 39,
     "metadata": {},
     "output_type": "execute_result"
    }
   ],
   "source": [
    "\n",
    "list_of_models = [\n",
    "        CatBoostClassifier(),#boosting\n",
    "        AdaBoostClassifier(),#boosting\n",
    "        XGBClassifier(),#boosting\n",
    "        LGBMClassifier(),#boosting\n",
    "        GradientBoostingClassifier()] #boosting\n",
    "\n",
    "#Эта строка создает список имен моделей в list_of_models.\n",
    "#Для каждой модели x в list_of_models она использует функцию type(x).__name__, которая возвращает строковое имя класса объекта.\n",
    "#Например, если модель - CatBoostClassifier(), type(x).__name__ вернет строку 'CatBoostClassifier'.\n",
    "list_of_model_names = [type(x).__name__ for x in list_of_models]\n",
    "\n",
    "cv_results = pd.DataFrame(\n",
    "        data=0.0,\n",
    "        index=list_of_model_names,\n",
    "        columns=['fit_time', 'score_time', 'accuracy', 'precision', 'recall', 'f1'])\n",
    "\n",
    "scoring = {\n",
    "    'accuracy': make_scorer(accuracy_score),\n",
    "    'precision': make_scorer(precision_score, average='macro'),\n",
    "    'recall': make_scorer(recall_score, average='macro'),\n",
    "    'f1': make_scorer(f1_score, average='macro')\n",
    "}\n",
    "\n",
    "for model in list_of_models:\n",
    "    cv_result = cross_validate(\n",
    "        estimator=model,\n",
    "        X=X_train_smote,\n",
    "        y=y_train_smote,\n",
    "        scoring=scoring,\n",
    "        cv=10,\n",
    "        n_jobs=-1)\n",
    "\n",
    "    cv_results.loc[type(model).__name__] = list(map(np.mean, cv_result.values()))\n",
    "\n",
    "cv_results"
   ]
  },
  {
   "cell_type": "markdown",
   "id": "5fde8cba-83ed-42cc-b38b-8c4f15bae5cd",
   "metadata": {},
   "source": [
    "**fit_time** и **score_time** отражают время, затраченное на обучение модели и время, затраченное на оценку каждой модели на каждой итерации кросс-валидации соответственно."
   ]
  },
  {
   "cell_type": "markdown",
   "id": "3b7e966d-1e6f-41ff-832c-9fd96a606110",
   "metadata": {},
   "source": [
    "### Прогнозирование с CatBoostClassifier"
   ]
  },
  {
   "cell_type": "markdown",
   "id": "da0d4478-f908-4a0d-9c42-f545c8811fc6",
   "metadata": {},
   "source": [
    "**Параметры по умолчанию**"
   ]
  },
  {
   "cell_type": "code",
   "execution_count": 20,
   "id": "0a5e537c-7843-4895-8dd9-4803724cde82",
   "metadata": {
    "id": "0a5e537c-7843-4895-8dd9-4803724cde82"
   },
   "outputs": [
    {
     "data": {
      "application/vnd.jupyter.widget-view+json": {
       "model_id": "5407293f1c06442e895a35f40faa9ed6",
       "version_major": 2,
       "version_minor": 0
      },
      "text/plain": [
       "MetricVisualizer(layout=Layout(align_self='stretch', height='500px'))"
      ]
     },
     "metadata": {},
     "output_type": "display_data"
    },
    {
     "name": "stdout",
     "output_type": "stream",
     "text": [
      "Fit Time: 6.4186413288 seconds\n",
      "Classification Report:\n",
      "              precision    recall  f1-score   support\n",
      "\n",
      "           0       0.98      1.00      0.99      6787\n",
      "           1       0.00      0.00      0.00       136\n",
      "\n",
      "    accuracy                           0.98      6923\n",
      "   macro avg       0.49      0.50      0.50      6923\n",
      "weighted avg       0.96      0.98      0.97      6923\n",
      "\n",
      "Confusion Matrix:\n",
      "[[6787    0]\n",
      " [ 136    0]]\n"
     ]
    },
    {
     "data": {
      "image/png": "[encoded data removed]",
      "text/plain": [
       "<Figure size 800x600 with 2 Axes>"
      ]
     },
     "metadata": {},
     "output_type": "display_data"
    }
   ],
   "source": [
    "# Start measuring time\n",
    "start_time = time.time()\n",
    "\n",
    "# Обучение модели ансамбля\n",
    "cat_model = CatBoostClassifier(verbose=False,random_state=55).fit(X_train_smote, y_train_smote,plot=True)\n",
    "\n",
    "# Calculate the fit time\n",
    "fit_time = time.time() - start_time\n",
    "print(f\"Fit Time: {fit_time:.10f} seconds\")\n",
    "\n",
    "\n",
    "# Предсказание на тестовой выборке\n",
    "y_pred = cat_model.predict(X_test_sc)\n",
    "\n",
    "# Вывод отчета по метрикам классификации\n",
    "print(\"Classification Report:\")\n",
    "print(classification_report(y_test, y_pred))\n",
    "\n",
    "# Confusion matrix\n",
    "print(\"Confusion Matrix:\")\n",
    "# Get confusion matrix\n",
    "# Get confusion matrix\n",
    "conf_matrix = confusion_matrix(y_test, y_pred)\n",
    "print(conf_matrix)\n",
    "\n",
    "# Plotting heatmap for confusion matrix\n",
    "plt.figure(figsize=(8, 6))\n",
    "sns.heatmap(conf_matrix, annot=True, cmap='Blues', fmt='d')\n",
    "\n",
    "# Set labels, title, and show plot\n",
    "plt.xlabel('Predicted labels')\n",
    "plt.ylabel('True labels')\n",
    "plt.title('Confusion Matrix')\n",
    "plt.show()"
   ]
  },
  {
   "cell_type": "markdown",
   "id": "968a78a0-e47b-487c-a48a-8ae5291e9983",
   "metadata": {},
   "source": [
    "### Прогнозирование с LGBMClassifier"
   ]
  },
  {
   "cell_type": "code",
   "execution_count": 21,
   "id": "ba912eb1-6a8b-41df-b6ad-849f044d853d",
   "metadata": {},
   "outputs": [
    {
     "name": "stdout",
     "output_type": "stream",
     "text": [
      "Fit Time: 0.2075300217 seconds\n",
      "Classification Report:\n",
      "              precision    recall  f1-score   support\n",
      "\n",
      "           0       0.98      1.00      0.99      6787\n",
      "           1       0.00      0.00      0.00       136\n",
      "\n",
      "    accuracy                           0.98      6923\n",
      "   macro avg       0.49      0.50      0.50      6923\n",
      "weighted avg       0.96      0.98      0.97      6923\n",
      "\n",
      "Confusion Matrix:\n",
      "[[6787    0]\n",
      " [ 136    0]]\n"
     ]
    },
    {
     "data": {
      "image/png": "[encoded data removed]",
      "text/plain": [
       "<Figure size 800x600 with 2 Axes>"
      ]
     },
     "metadata": {},
     "output_type": "display_data"
    }
   ],
   "source": [
    "# Start measuring time\n",
    "start_time = time.time()\n",
    "\n",
    "# Обучение модели ансамбля\n",
    "lgbm_model = LGBMClassifier(verbose=-1,random_state=33).fit(X_train_smote, y_train_smote)\n",
    "# Calculate the fit time\n",
    "fit_time = time.time() - start_time\n",
    "print(f\"Fit Time: {fit_time:.10f} seconds\")\n",
    "\n",
    "\n",
    "# Предсказание на тестовой выборке\n",
    "y_pred = lgbm_model.predict(X_test_sc)\n",
    "\n",
    "# Вывод отчета по метрикам классификации\n",
    "print(\"Classification Report:\")\n",
    "print(classification_report(y_test, y_pred))\n",
    "\n",
    "# Confusion matrix\n",
    "print(\"Confusion Matrix:\")\n",
    "# Get confusion matrix\n",
    "# Get confusion matrix\n",
    "conf_matrix = confusion_matrix(y_test, y_pred)\n",
    "print(conf_matrix)\n",
    "\n",
    "# Plotting heatmap for confusion matrix\n",
    "plt.figure(figsize=(8, 6))\n",
    "sns.heatmap(conf_matrix, annot=True, cmap='Blues', fmt='d')\n",
    "\n",
    "# Set labels, title, and show plot\n",
    "plt.xlabel('Predicted labels')\n",
    "plt.ylabel('True labels')\n",
    "plt.title('Confusion Matrix')\n",
    "plt.show()"
   ]
  },
  {
   "cell_type": "markdown",
   "id": "6bfae0f0-3498-46ea-8d0f-090688b5ebe5",
   "metadata": {},
   "source": [
    "### Прогнозирование XGBClassifier()"
   ]
  },
  {
   "cell_type": "code",
   "execution_count": 22,
   "id": "850fc06c-33d2-412b-890e-6b99a67cfc75",
   "metadata": {},
   "outputs": [
    {
     "name": "stdout",
     "output_type": "stream",
     "text": [
      "Fit Time: 0.1728 seconds\n",
      "Classification Report:\n",
      "              precision    recall  f1-score   support\n",
      "\n",
      "           0       0.97      0.41      0.58      6787\n",
      "           1       0.01      0.43      0.03       136\n",
      "\n",
      "    accuracy                           0.41      6923\n",
      "   macro avg       0.49      0.42      0.30      6923\n",
      "weighted avg       0.95      0.41      0.57      6923\n",
      "\n",
      "Confusion Matrix:\n",
      "[[2795 3992]\n",
      " [  77   59]]\n"
     ]
    },
    {
     "data": {
      "image/png": "[encoded data removed]",
      "text/plain": [
       "<Figure size 800x600 with 2 Axes>"
      ]
     },
     "metadata": {},
     "output_type": "display_data"
    }
   ],
   "source": [
    "# Start measuring time\n",
    "start_time = time.time()\n",
    "\n",
    "# Обучение модели ансамбля\n",
    "xgb_model = XGBClassifier(random_state=42).fit(X_train_smote, y_train_smote)\n",
    "# Calculate the fit time\n",
    "fit_time = time.time() - start_time\n",
    "print(f\"Fit Time: {fit_time:.4f} seconds\")\n",
    "\n",
    "\n",
    "# Предсказание на тестовой выборке\n",
    "y_pred = xgb_model.predict(X_test_sc)\n",
    "\n",
    "# Вывод отчета по метрикам классификации\n",
    "print(\"Classification Report:\")\n",
    "print(classification_report(y_test, y_pred))\n",
    "\n",
    "# Confusion matrix\n",
    "print(\"Confusion Matrix:\")\n",
    "# Get confusion matrix\n",
    "# Get confusion matrix\n",
    "conf_matrix = confusion_matrix(y_test, y_pred)\n",
    "print(conf_matrix)\n",
    "\n",
    "# Plotting heatmap for confusion matrix\n",
    "plt.figure(figsize=(8, 6))\n",
    "sns.heatmap(conf_matrix, annot=True, cmap='Blues', fmt='d')\n",
    "\n",
    "# Set labels, title, and show plot\n",
    "plt.xlabel('Predicted labels')\n",
    "plt.ylabel('True labels')\n",
    "plt.title('Confusion Matrix')\n",
    "plt.show()"
   ]
  },
  {
   "cell_type": "code",
   "execution_count": null,
   "id": "63301dc2-8acd-44d3-80f3-59c1cb3c6e23",
   "metadata": {},
   "outputs": [],
   "source": []
  },
  {
   "cell_type": "markdown",
   "id": "d98acaf9-32e6-4eaa-b8d3-b7c071c009a5",
   "metadata": {
    "id": "5f3438be-20ea-4d26-9fbf-fe98d9f18759"
   },
   "source": [
    "### 2.Bagging"
   ]
  },
  {
   "cell_type": "code",
   "execution_count": 43,
   "id": "d2bd2011-e14d-444b-9d89-4f7e42327173",
   "metadata": {
    "id": "d2bd2011-e14d-444b-9d89-4f7e42327173"
   },
   "outputs": [],
   "source": [
    "from sklearn.ensemble import BaggingClassifier\n",
    "from sklearn.datasets import make_classification\n",
    "\n",
    "from sklearn.svm import SVC\n",
    "from sklearn.tree import DecisionTreeClassifier\n",
    "from sklearn.neighbors import KNeighborsClassifier\n"
   ]
  },
  {
   "cell_type": "code",
   "execution_count": 44,
   "id": "86d90160-a2ae-465e-af41-49f15b3b7904",
   "metadata": {
    "id": "86d90160-a2ae-465e-af41-49f15b3b7904",
    "outputId": "90732fb4-e8bc-4d1d-ee49-7bb3db0b756e"
   },
   "outputs": [
    {
     "data": {
      "text/html": [
       "<div>\n",
       "<style scoped>\n",
       "    .dataframe tbody tr th:only-of-type {\n",
       "        vertical-align: middle;\n",
       "    }\n",
       "\n",
       "    .dataframe tbody tr th {\n",
       "        vertical-align: top;\n",
       "    }\n",
       "\n",
       "    .dataframe thead th {\n",
       "        text-align: right;\n",
       "    }\n",
       "</style>\n",
       "<table border=\"1\" class=\"dataframe\">\n",
       "  <thead>\n",
       "    <tr style=\"text-align: right;\">\n",
       "      <th></th>\n",
       "      <th>fit_time</th>\n",
       "      <th>score_time</th>\n",
       "      <th>accuracy</th>\n",
       "      <th>precision</th>\n",
       "      <th>recall</th>\n",
       "      <th>f1</th>\n",
       "    </tr>\n",
       "  </thead>\n",
       "  <tbody>\n",
       "    <tr>\n",
       "      <th>RandomForestClassifier</th>\n",
       "      <td>72.974073</td>\n",
       "      <td>0.906001</td>\n",
       "      <td>0.968791</td>\n",
       "      <td>0.969362</td>\n",
       "      <td>0.968790</td>\n",
       "      <td>0.968781</td>\n",
       "    </tr>\n",
       "    <tr>\n",
       "      <th>SVC</th>\n",
       "      <td>344.796825</td>\n",
       "      <td>70.136698</td>\n",
       "      <td>0.861386</td>\n",
       "      <td>0.867458</td>\n",
       "      <td>0.861386</td>\n",
       "      <td>0.860813</td>\n",
       "    </tr>\n",
       "    <tr>\n",
       "      <th>DecisionTreeClassifier</th>\n",
       "      <td>3.676515</td>\n",
       "      <td>0.016195</td>\n",
       "      <td>0.984644</td>\n",
       "      <td>0.985649</td>\n",
       "      <td>0.984644</td>\n",
       "      <td>0.984598</td>\n",
       "    </tr>\n",
       "    <tr>\n",
       "      <th>KNeighborsClassifier</th>\n",
       "      <td>0.170701</td>\n",
       "      <td>25.024504</td>\n",
       "      <td>0.930813</td>\n",
       "      <td>0.936589</td>\n",
       "      <td>0.930812</td>\n",
       "      <td>0.930582</td>\n",
       "    </tr>\n",
       "  </tbody>\n",
       "</table>\n",
       "</div>"
      ],
      "text/plain": [
       "                          fit_time  score_time  accuracy  precision    recall  \\\n",
       "RandomForestClassifier   72.974073    0.906001  0.968791   0.969362  0.968790   \n",
       "SVC                     344.796825   70.136698  0.861386   0.867458  0.861386   \n",
       "DecisionTreeClassifier    3.676515    0.016195  0.984644   0.985649  0.984644   \n",
       "KNeighborsClassifier      0.170701   25.024504  0.930813   0.936589  0.930812   \n",
       "\n",
       "                              f1  \n",
       "RandomForestClassifier  0.968781  \n",
       "SVC                     0.860813  \n",
       "DecisionTreeClassifier  0.984598  \n",
       "KNeighborsClassifier    0.930582  "
      ]
     },
     "execution_count": 44,
     "metadata": {},
     "output_type": "execute_result"
    }
   ],
   "source": [
    "# List of base classifiers\n",
    "base_classifiers = [\n",
    "    RandomForestClassifier(),\n",
    "    SVC(),   \n",
    "    DecisionTreeClassifier(),\n",
    "    KNeighborsClassifier()\n",
    "]\n",
    "\n",
    "# List of model names\n",
    "list_of_model_names = [type(x).__name__ for x in base_classifiers]\n",
    "\n",
    "# DataFrame to store results\n",
    "cv_results = pd.DataFrame(\n",
    "    data=0.0,\n",
    "    index=list_of_model_names,\n",
    "    columns=['fit_time', 'score_time', 'accuracy', 'precision', 'recall', 'f1']\n",
    ")\n",
    "\n",
    "# Scoring metrics\n",
    "scoring = {\n",
    "    'accuracy': make_scorer(accuracy_score),\n",
    "    'precision': make_scorer(precision_score, average='macro'),\n",
    "    'recall': make_scorer(recall_score, average='macro'),\n",
    "    'f1': make_scorer(f1_score, average='macro')\n",
    "}\n",
    "\n",
    "# Loop through each base classifier, perform cross-validation, and store results in the DataFrame\n",
    "for model, model_name in zip(base_classifiers, list_of_model_names):\n",
    "    bagging = BaggingClassifier(base_estimator=model)\n",
    "    cv_result = cross_validate(\n",
    "        estimator=bagging,\n",
    "        X=X_train_smote,\n",
    "        y=y_train_smote,\n",
    "        scoring=scoring,\n",
    "        cv=10,\n",
    "        n_jobs=-1\n",
    "    )\n",
    "\n",
    "    cv_results.loc[model_name] = list(map(np.mean, cv_result.values()))\n",
    "\n",
    "cv_results"
   ]
  },
  {
   "cell_type": "markdown",
   "id": "ce39d181-bfe1-4ce6-90fb-3165eb55133e",
   "metadata": {},
   "source": [
    "### Кросс Валидация"
   ]
  },
  {
   "cell_type": "code",
   "execution_count": 45,
   "id": "019607c9-7bc2-4f04-b560-c9f627db4221",
   "metadata": {
    "id": "86d90160-a2ae-465e-af41-49f15b3b7904",
    "outputId": "90732fb4-e8bc-4d1d-ee49-7bb3db0b756e"
   },
   "outputs": [
    {
     "data": {
      "text/html": [
       "<div>\n",
       "<style scoped>\n",
       "    .dataframe tbody tr th:only-of-type {\n",
       "        vertical-align: middle;\n",
       "    }\n",
       "\n",
       "    .dataframe tbody tr th {\n",
       "        vertical-align: top;\n",
       "    }\n",
       "\n",
       "    .dataframe thead th {\n",
       "        text-align: right;\n",
       "    }\n",
       "</style>\n",
       "<table border=\"1\" class=\"dataframe\">\n",
       "  <thead>\n",
       "    <tr style=\"text-align: right;\">\n",
       "      <th></th>\n",
       "      <th>fit_time</th>\n",
       "      <th>score_time</th>\n",
       "      <th>accuracy</th>\n",
       "      <th>precision</th>\n",
       "      <th>recall</th>\n",
       "      <th>f1</th>\n",
       "    </tr>\n",
       "  </thead>\n",
       "  <tbody>\n",
       "    <tr>\n",
       "      <th>ExtraTreesClassifier</th>\n",
       "      <td>23.760596</td>\n",
       "      <td>1.959002</td>\n",
       "      <td>0.960808</td>\n",
       "      <td>0.961952</td>\n",
       "      <td>0.960808</td>\n",
       "      <td>0.960784</td>\n",
       "    </tr>\n",
       "  </tbody>\n",
       "</table>\n",
       "</div>"
      ],
      "text/plain": [
       "                       fit_time  score_time  accuracy  precision    recall  \\\n",
       "ExtraTreesClassifier  23.760596    1.959002  0.960808   0.961952  0.960808   \n",
       "\n",
       "                            f1  \n",
       "ExtraTreesClassifier  0.960784  "
      ]
     },
     "execution_count": 45,
     "metadata": {},
     "output_type": "execute_result"
    }
   ],
   "source": [
    "# List of base classifiers\n",
    "base_classifiers = [\n",
    "    #RandomForestClassifier(),\n",
    "    #SVC(),\n",
    "    ExtraTreesClassifier()\n",
    "    #DecisionTreeClassifier(),\n",
    "    #KNeighborsClassifier()\n",
    "]\n",
    "\n",
    "# List of model names\n",
    "list_of_model_names = [type(x).__name__ for x in base_classifiers]\n",
    "\n",
    "# DataFrame to store results\n",
    "cv_results = pd.DataFrame(\n",
    "    data=0.0,\n",
    "    index=list_of_model_names,\n",
    "    columns=['fit_time', 'score_time', 'accuracy', 'precision', 'recall', 'f1']\n",
    ")\n",
    "\n",
    "# Scoring metrics\n",
    "scoring = {\n",
    "    'accuracy': make_scorer(accuracy_score),\n",
    "    'precision': make_scorer(precision_score, average='macro'),\n",
    "    'recall': make_scorer(recall_score, average='macro'),\n",
    "    'f1': make_scorer(f1_score, average='macro')\n",
    "}\n",
    "\n",
    "# Loop through each base classifier, perform cross-validation, and store results in the DataFrame\n",
    "for model, model_name in zip(base_classifiers, list_of_model_names):\n",
    "    bagging = BaggingClassifier(base_estimator=model)\n",
    "    cv_result = cross_validate(\n",
    "        estimator=bagging,\n",
    "        X=X_train_smote,\n",
    "        y=y_train_smote,\n",
    "        scoring=scoring,\n",
    "        cv=5,\n",
    "        n_jobs=-1\n",
    "    )\n",
    "\n",
    "    cv_results.loc[model_name] = list(map(np.mean, cv_result.values()))\n",
    "\n",
    "cv_results"
   ]
  },
  {
   "cell_type": "markdown",
   "id": "55335816-ad33-4d07-b94f-a7c0f7aa6f1c",
   "metadata": {},
   "source": [
    " ### Прогнозирование с DecisionTreeClassifier"
   ]
  },
  {
   "cell_type": "code",
   "execution_count": 23,
   "id": "5d62bf48-5cfa-4bea-9314-f415065f6ff2",
   "metadata": {},
   "outputs": [
    {
     "name": "stdout",
     "output_type": "stream",
     "text": [
      "Fit Time: 0.0787 seconds\n",
      "Classification Report:\n",
      "              precision    recall  f1-score   support\n",
      "\n",
      "           0       0.98      1.00      0.99      6787\n",
      "           1       0.00      0.00      0.00       136\n",
      "\n",
      "    accuracy                           0.98      6923\n",
      "   macro avg       0.49      0.50      0.50      6923\n",
      "weighted avg       0.96      0.98      0.97      6923\n",
      "\n",
      "Confusion Matrix:\n",
      "[[6787    0]\n",
      " [ 136    0]]\n"
     ]
    },
    {
     "data": {
      "image/png": "[encoded data removed]",
      "text/plain": [
       "<Figure size 800x600 with 2 Axes>"
      ]
     },
     "metadata": {},
     "output_type": "display_data"
    }
   ],
   "source": [
    "# Start measuring time\n",
    "start_time = time.time()\n",
    "\n",
    "# Обучение модели ансамбля\n",
    "tree_model = DecisionTreeClassifier(random_state=55).fit(X_train_smote, y_train_smote)\n",
    "# Calculate the fit time\n",
    "fit_time = time.time() - start_time\n",
    "print(f\"Fit Time: {fit_time:.4f} seconds\")\n",
    "\n",
    "\n",
    "# Предсказание на тестовой выборке\n",
    "y_pred = tree_model.predict(X_test_sc)\n",
    "\n",
    "# Вывод отчета по метрикам классификации\n",
    "print(\"Classification Report:\")\n",
    "print(classification_report(y_test, y_pred))\n",
    "\n",
    "# Confusion matrix\n",
    "print(\"Confusion Matrix:\")\n",
    "# Get confusion matrix\n",
    "# Get confusion matrix\n",
    "conf_matrix = confusion_matrix(y_test, y_pred)\n",
    "print(conf_matrix)\n",
    "\n",
    "# Plotting heatmap for confusion matrix\n",
    "plt.figure(figsize=(8, 6))\n",
    "sns.heatmap(conf_matrix, annot=True, cmap='Blues', fmt='d')\n",
    "\n",
    "# Set labels, title, and show plot\n",
    "plt.xlabel('Predicted labels')\n",
    "plt.ylabel('True labels')\n",
    "plt.title('Confusion Matrix')\n",
    "plt.show()"
   ]
  },
  {
   "cell_type": "code",
   "execution_count": null,
   "id": "781ec075-d5fc-4440-babe-eba9cf8f1b74",
   "metadata": {},
   "outputs": [],
   "source": []
  },
  {
   "cell_type": "markdown",
   "id": "c3b9746c-5160-444c-b495-a0a1bfb56f3d",
   "metadata": {
    "id": "5f3a3024-cda5-49ab-8e5e-18b34f0e9aed"
   },
   "source": [
    "### 3. STACKING  СТЕКИНГ"
   ]
  },
  {
   "cell_type": "markdown",
   "id": "e2801295-0ad3-4fa4-84ee-de369d18a301",
   "metadata": {},
   "source": [
    "**Стекинг (stacking)** - это техника ансамблирования в машинном обучении, которая позволяет комбинировать прогнозы нескольких моделей, чтобы получить более качественные и стабильные предсказания. Она может быть использована как для задач классификации, так и для задач регрессии."
   ]
  },
  {
   "cell_type": "markdown",
   "id": "bc6b9138-81b3-48bf-8d96-a498c025289b",
   "metadata": {},
   "source": [
    "#### Принцип работы стекинга:\r\n",
    "\r\n",
    "**Базовые модели:** Вначале выбираются несколько различных базовых моделей. Это могут быть модели разных алгоритмов, например, решающие деревья, случайные леса, градиентные бустинги, SVM и т. д. Каждая базовая модель обучается на одних и тех же обучающих данных.\r\n",
    "\r\n",
    "**Мета-модель (Мета-классификатор):** После обучения базовых моделей создается мета-модель (или мета-классификатор). Эта модель обучается на предсказаниях базовых моделей вместо исходных признаков. В случае задачи классификации, мета-модель обучается на предсказанных вероятностях классов, а в случае регрессии - на предсказанных значениях целевой переменной.\r\n",
    "\r\n",
    "**Прогноз на новых данных:** Когда необходимо сделать предсказание для новых данных, сначала базовые модели делают свои прогнозы. Затем мета-модель использует эти прогнозы базовых моделей как входные признаки и делает итоговое предсказани#е.\r\n",
    "\r\n",
    "## Преимущества стекинга:\r\n",
    "\r\n",
    "- **Увеличение качества:** Стекинг позволяет комбинировать сильные стороны разных моделей и уменьшать их слабые стороны, что может привести к более точным прогнозам.\r\n",
    "\r\n",
    "- **Устойчивость к переобучению:** За счет комбинирования нескольких моделей, стекинг может быть менее склонен к переобучению, особенно если разные модели имеют разные виды ошибок.\r\n",
    "\r\n",
    "- **Гибкость:** Стекинг позволяет использовать любые модели в качестве базовых, что делает его универсальным подходом для ансамблирования.\r\n",
    "\r\n",
    "Однако стекинг требует более высокой вычислительной мощности и большего объема данных для эффективного обучения, поэтому он может быть не всегда применим в задачах с ограниченными ресурсами.\r\n",
    "\r\n",
    "Стекинг - это мощный инструмент, который может помочь в повышении точности и стабильности моделей машинного обучения, особенно в соревнованиях по анализу данных и реальных задачах с высокими требованиями к качеству прогнозов.ству прогнозов.\r\n",
    "\r\n",
    "\r\n",
    "\r\n",
    "\r\n",
    "\r\n"
   ]
  },
  {
   "cell_type": "markdown",
   "id": "e7ffed24",
   "metadata": {
    "id": "e7ffed24"
   },
   "source": [
    "### Стекинг моделей для улучшения классификации\r\n",
    "\r\n",
    "Этот код создает ансамбль моделей и использует метод стекинга для объединения их прогнозов. В этом коде используются следующие шаги:\r\n",
    "\r\n",
    "1. **Создание базовых моделей:** В этом шаге создаются пять различных классификационных моделей (GradientBoostingClassifier, AdaBoostClassifier, XGBClassifier, LGBMClassifier и CatBoostClassifier) с определенными гиперпараметрами. Каждая из этих моделей будет служить базовой моделью в ансамбле.\r\n",
    "\r\n",
    "2. **Создание объекта EnsembleVoteClassifier:** В этом шаге создается объект EnsembleVoteClassifier, который объединяет базовые модели в ансамбль. Этот ансамбль будет использовать голосование для принятия решения. Модели передаются в ансамбль как параметр `clfs`.\r\n",
    "\r\n",
    "3. **Обучение модели ансамбля:** В этом шаге ансамбль обучается на обучающих данных с использованием метода `.fit()`.\r\n",
    "\r\n",
    "4. **Предсказание на тестовой выборке:** После обучения ансамбль используется для предсказания классов на тестовой выборке с использованием метода `.predict()`.\r\n",
    "\r\n",
    "5. **Оценка результатов:** Затем выводится отчет по метрикам классификации (classification report), который включает в себя метрики, такие как точность, полнота, F1-мера и др. Также выводится матрица ошибок (confusion matrix) и строится тепловая карта для визуализации матрицы ошибок.\r\n",
    "\r\n",
    "Этот код демонстрирует стекинг моделей, что может быть полезным для улучшения производительности классификации путем объединения прогнозов нескольких моделей. Вы можете изменить базовые модели, их гиперпараметры и количество базовых моделей, чтобы настроить ансамбль под конкретную задачу."
   ]
  },
  {
   "cell_type": "code",
   "execution_count": 32,
   "id": "27d5ace6-888e-4e62-bd05-aa3b3c407211",
   "metadata": {
    "colab": {
     "base_uri": "https://localhost:8080/"
    },
    "id": "27d5ace6-888e-4e62-bd05-aa3b3c407211",
    "outputId": "19f35e39-289f-4263-f8fc-ed3fabb87d26"
   },
   "outputs": [
    {
     "name": "stdout",
     "output_type": "stream",
     "text": [
      "Requirement already satisfied: mlxtend in /usr/local/lib/python3.10/dist-packages (0.22.0)\n",
      "Requirement already satisfied: scipy>=1.2.1 in /usr/local/lib/python3.10/dist-packages (from mlxtend) (1.11.4)\n",
      "Requirement already satisfied: numpy>=1.16.2 in /usr/local/lib/python3.10/dist-packages (from mlxtend) (1.23.5)\n",
      "Requirement already satisfied: pandas>=0.24.2 in /usr/local/lib/python3.10/dist-packages (from mlxtend) (1.5.3)\n",
      "Requirement already satisfied: scikit-learn>=1.0.2 in /usr/local/lib/python3.10/dist-packages (from mlxtend) (1.2.2)\n",
      "Requirement already satisfied: matplotlib>=3.0.0 in /usr/local/lib/python3.10/dist-packages (from mlxtend) (3.7.1)\n",
      "Requirement already satisfied: joblib>=0.13.2 in /usr/local/lib/python3.10/dist-packages (from mlxtend) (1.3.2)\n",
      "Requirement already satisfied: setuptools in /usr/local/lib/python3.10/dist-packages (from mlxtend) (67.7.2)\n",
      "Requirement already satisfied: contourpy>=1.0.1 in /usr/local/lib/python3.10/dist-packages (from matplotlib>=3.0.0->mlxtend) (1.2.0)\n",
      "Requirement already satisfied: cycler>=0.10 in /usr/local/lib/python3.10/dist-packages (from matplotlib>=3.0.0->mlxtend) (0.12.1)\n",
      "Requirement already satisfied: fonttools>=4.22.0 in /usr/local/lib/python3.10/dist-packages (from matplotlib>=3.0.0->mlxtend) (4.46.0)\n",
      "Requirement already satisfied: kiwisolver>=1.0.1 in /usr/local/lib/python3.10/dist-packages (from matplotlib>=3.0.0->mlxtend) (1.4.5)\n",
      "Requirement already satisfied: packaging>=20.0 in /usr/local/lib/python3.10/dist-packages (from matplotlib>=3.0.0->mlxtend) (23.2)\n",
      "Requirement already satisfied: pillow>=6.2.0 in /usr/local/lib/python3.10/dist-packages (from matplotlib>=3.0.0->mlxtend) (9.4.0)\n",
      "Requirement already satisfied: pyparsing>=2.3.1 in /usr/local/lib/python3.10/dist-packages (from matplotlib>=3.0.0->mlxtend) (3.1.1)\n",
      "Requirement already satisfied: python-dateutil>=2.7 in /usr/local/lib/python3.10/dist-packages (from matplotlib>=3.0.0->mlxtend) (2.8.2)\n",
      "Requirement already satisfied: pytz>=2020.1 in /usr/local/lib/python3.10/dist-packages (from pandas>=0.24.2->mlxtend) (2023.3.post1)\n",
      "Requirement already satisfied: threadpoolctl>=2.0.0 in /usr/local/lib/python3.10/dist-packages (from scikit-learn>=1.0.2->mlxtend) (3.2.0)\n",
      "Requirement already satisfied: six>=1.5 in /usr/local/lib/python3.10/dist-packages (from python-dateutil>=2.7->matplotlib>=3.0.0->mlxtend) (1.16.0)\n"
     ]
    }
   ],
   "source": [
    "!pip install mlxtend"
   ]
  },
  {
   "cell_type": "markdown",
   "id": "348e6054-7f2f-4ced-8891-bdad78e47721",
   "metadata": {},
   "source": [
    "### STACKING 1"
   ]
  },
  {
   "cell_type": "code",
   "execution_count": null,
   "id": "55838a2b-b246-4e08-8ec9-38eba05c78bf",
   "metadata": {
    "id": "55838a2b-b246-4e08-8ec9-38eba05c78bf",
    "outputId": "d68cdb80-6fa8-41df-94f6-30d252bd8871"
   },
   "outputs": [
    {
     "name": "stdout",
     "output_type": "stream",
     "text": [
      "Classification Report:\n",
      "              precision    recall  f1-score   support\n",
      "\n",
      "           0       0.98      1.00      0.99      6787\n",
      "           1       0.12      0.01      0.03       136\n",
      "\n",
      "    accuracy                           0.98      6923\n",
      "   macro avg       0.55      0.51      0.51      6923\n",
      "weighted avg       0.96      0.98      0.97      6923\n",
      "\n",
      "Confusion Matrix:\n",
      "[[6772   15]\n",
      " [ 134    2]]\n"
     ]
    },
    {
     "data": {
      "image/png": "[encoded data removed]",
      "text/plain": [
       "<Figure size 800x600 with 2 Axes>"
      ]
     },
     "metadata": {},
     "output_type": "display_data"
    }
   ],
   "source": [
    " #Создание базовых моделей\n",
    "model1 = GradientBoostingClassifier(n_estimators=100, random_state=42)\n",
    "model2 = AdaBoostClassifier(n_estimators=100, random_state=42)\n",
    "model3 = XGBClassifier(n_estimators=100, random_state=42)\n",
    "model4 = LGBMClassifier(n_estimators=100, random_state=42, verbose=-1)\n",
    "model5 = CatBoostClassifier(iterations=100, random_state=42, verbose=False)\n",
    "\n",
    "# Создание объекта EnsembleVoteClassifier\n",
    "ensemble = EnsembleVoteClassifier(clfs=[model1, model2, model3, model4, model5])\n",
    "\n",
    "# Обучение модели ансамбля\n",
    "ensemble.fit(X_train_smote, y_train_smote)\n",
    "\n",
    "# Предсказание на тестовой выборке\n",
    "y_pred = ensemble.predict(X_test_sc)\n",
    "\n",
    "# Вывод отчета по метрикам классификации\n",
    "print(\"Classification Report:\")\n",
    "print(classification_report(y_test, y_pred))\n",
    "\n",
    "# Confusion matrix\n",
    "print(\"Confusion Matrix:\")\n",
    "# Get confusion matrix\n",
    "# Get confusion matrix\n",
    "conf_matrix = confusion_matrix(y_test, y_pred)\n",
    "print(conf_matrix)\n",
    "\n",
    "# Plotting heatmap for confusion matrix\n",
    "plt.figure(figsize=(8, 6))\n",
    "sns.heatmap(conf_matrix, annot=True, cmap='Blues', fmt='d')\n",
    "\n",
    "# Set labels, title, and show plot\n",
    "plt.xlabel('Predicted labels')\n",
    "plt.ylabel('True labels')\n",
    "plt.title('Confusion Matrix')\n",
    "plt.show()"
   ]
  },
  {
   "cell_type": "code",
   "execution_count": 38,
   "id": "pf_hMyzm7bV_",
   "metadata": {
    "colab": {
     "base_uri": "https://localhost:8080/"
    },
    "id": "pf_hMyzm7bV_",
    "outputId": "1cfadd2a-c92d-44cc-c35d-6b31905c1630"
   },
   "outputs": [
    {
     "data": {
      "text/plain": [
       "Counter({0: 6787, 1: 136})"
      ]
     },
     "execution_count": 38,
     "metadata": {},
     "output_type": "execute_result"
    }
   ],
   "source": [
    "cou = Counter(y_test)\n",
    "cou"
   ]
  },
  {
   "cell_type": "code",
   "execution_count": 35,
   "id": "yw2lLnKj6orf",
   "metadata": {
    "colab": {
     "base_uri": "https://localhost:8080/"
    },
    "id": "yw2lLnKj6orf",
    "outputId": "45c84018-245e-42d1-c473-58d3b9a5183d"
   },
   "outputs": [
    {
     "data": {
      "text/plain": [
       "6923"
      ]
     },
     "execution_count": 35,
     "metadata": {},
     "output_type": "execute_result"
    }
   ],
   "source": [
    "len(X_test_sc)"
   ]
  },
  {
   "cell_type": "code",
   "execution_count": 36,
   "id": "Ce0hMIVC7BKA",
   "metadata": {
    "colab": {
     "base_uri": "https://localhost:8080/"
    },
    "id": "Ce0hMIVC7BKA",
    "outputId": "b0e73f51-b917-44cd-aef4-ceb62d020cf9"
   },
   "outputs": [
    {
     "data": {
      "text/plain": [
       "6923"
      ]
     },
     "execution_count": 36,
     "metadata": {},
     "output_type": "execute_result"
    }
   ],
   "source": [
    "len(y_test)"
   ]
  },
  {
   "cell_type": "markdown",
   "id": "ff340ae1-75e9-4499-ba03-76ddb31dfa86",
   "metadata": {
    "id": "ff340ae1-75e9-4499-ba03-76ddb31dfa86"
   },
   "source": [
    "**0 класс (не инсультники)**\n",
    "\n",
    "Presision = 6772/6772+134 = TP/TP+FP = 0.98\n",
    "\n",
    "Recall = 6772/6772+15=TP/TP+FN = 0.9979 ~1.00"
   ]
  },
  {
   "cell_type": "markdown",
   "id": "21902c49-e406-469f-b72e-1ca558afa73d",
   "metadata": {
    "id": "21902c49-e406-469f-b72e-1ca558afa73d"
   },
   "source": [
    "**1 класс (инсультники)**\n",
    "\n",
    "Presision = 2/2+15 = TP/TP+FP = 0.12\n",
    "\n",
    "Recall = 2/2+134=TP/TP+FN = 0.01"
   ]
  },
  {
   "cell_type": "markdown",
   "id": "1d84bc18-dec0-429a-9a7b-49097d149c91",
   "metadata": {},
   "source": [
    "### STACKING 2"
   ]
  },
  {
   "cell_type": "code",
   "execution_count": null,
   "id": "e21a800a-ec65-43dc-be15-b0099f26d65c",
   "metadata": {
    "id": "e21a800a-ec65-43dc-be15-b0099f26d65c",
    "outputId": "e44a9462-3dc1-4262-dc49-ba261181a567"
   },
   "outputs": [
    {
     "name": "stdout",
     "output_type": "stream",
     "text": [
      "Classification Report:\n",
      "              precision    recall  f1-score   support\n",
      "\n",
      "           0       0.98      0.96      0.97      6787\n",
      "           1       0.04      0.07      0.05       136\n",
      "\n",
      "    accuracy                           0.95      6923\n",
      "   macro avg       0.51      0.52      0.51      6923\n",
      "weighted avg       0.96      0.95      0.95      6923\n",
      "\n",
      "Confusion Matrix:\n",
      "[[6538  249]\n",
      " [ 126   10]]\n"
     ]
    },
    {
     "data": {
      "image/png": "[encoded data removed]",
      "text/plain": [
       "<Figure size 800x600 with 2 Axes>"
      ]
     },
     "metadata": {},
     "output_type": "display_data"
    }
   ],
   "source": [
    "# Create base models\n",
    "model_1 = RandomForestClassifier(n_estimators=100, random_state=42)\n",
    "model_2 = SVC()\n",
    "model_3 = DecisionTreeClassifier()\n",
    "model_4 = KNeighborsClassifier()\n",
    "\n",
    "# Create an ensemble using VotingClassifier\n",
    "ensemble = EnsembleVoteClassifier(clfs=[model_1,model_2,model_3,model_4],voting='hard')  # 'hard' voting combines predictions by majority voting\n",
    "\n",
    "# Train the ensemble\n",
    "ensemble.fit(X_train_smote, y_train_smote)\n",
    "\n",
    "# Predict on the test set\n",
    "y_pred = ensemble.predict(X_test_sc)\n",
    "\n",
    "# Get confusion matrix\n",
    "conf_matrix = confusion_matrix(y_test, y_pred)\n",
    "# Вывод отчета по метрикам классификации\n",
    "print(\"Classification Report:\")\n",
    "print(classification_report(y_test, y_pred))\n",
    "\n",
    "# Confusion matrix\n",
    "print(\"Confusion Matrix:\")\n",
    "# Get confusion matrix\n",
    "print(conf_matrix)\n",
    "\n",
    "# Plotting heatmap for confusion matrix\n",
    "plt.figure(figsize=(8, 6))\n",
    "sns.heatmap(conf_matrix, annot=True, cmap='Blues', fmt='d')\n",
    "\n",
    "# Set labels, title, and show plot\n",
    "plt.xlabel('Predicted labels')\n",
    "plt.ylabel('True labels')\n",
    "plt.title('Confusion Matrix')\n",
    "plt.show()"
   ]
  },
  {
   "cell_type": "markdown",
   "id": "5ed94013-4867-432b-89bc-a2cd3b24b479",
   "metadata": {
    "id": "5ed94013-4867-432b-89bc-a2cd3b24b479"
   },
   "source": [
    "**0 класс**\n",
    "\n",
    "Presision = 6538/6538+126 = TP/TP+FP = 0.98\n",
    "\n",
    "Recall = 6538/6538+249=TP/TP+FN = 0.96"
   ]
  },
  {
   "cell_type": "markdown",
   "id": "98e6cc7e-31a2-47d4-8d23-c9a3ce703e49",
   "metadata": {
    "id": "98e6cc7e-31a2-47d4-8d23-c9a3ce703e49"
   },
   "source": [
    "**1 класс**\n",
    "\n",
    "Presision = 10/10+249 = TP/TP+FP = 0.04\n",
    "\n",
    "Recall = 10/10+126=TP/TP+FN = 0.07\n"
   ]
  },
  {
   "cell_type": "markdown",
   "id": "23c924c9-50fb-4a17-9c81-f881defe9066",
   "metadata": {
    "id": "23c924c9-50fb-4a17-9c81-f881defe9066"
   },
   "source": [
    "**Macro Average (макро-среднее)**: Это среднее значение, которое вычисляется путем усреднения метрик (точность, полнота, F1-мера и т.д.), рассчитанных независимо для каждого класса, без учета дисбаланса классов. Каждый класс вносит равный вклад в итоговое среднее значение, независимо от количества его экземпляров (support).\n",
    "**\n",
    "Weighted Avera**ge (взвешенное среднее): Это среднее значение, рассчитанное путем усреднения метрик с учетом весов, которые определяются количеством экземпляров в каждом классе (support). Таким образом, классы с большим количеством экземпляров имеют более значимое влияние на итоговую метрику, чем классы с меньшим числом экземпляров. Это позволяет лучше учесть дисбаланс классов при оценке производительности модели по нескольким класса\n",
    "\n",
    "\n",
    "**Macro Average (макро-среднее):**\n",
    "\n",
    "Precision (точность): 0.51  \n",
    "Recall (полнота): 0.52  \n",
    "F1-score: 0.51  \n",
    "\n",
    "Это означает, что если взять среднее значение precision, recall и F1-score по всем классам (вне зависимости от их размера или поддержки), то они будут равны указанным числам (в данном случае, около 0.51-0.52\n",
    "\n",
    "**Улучшение Macro Average:** Это важно, если вам нужно, чтобы модель хорошо работала на обоих классах, независимо от их размера. Это может быть особенно важно в случаях, когда миноритарный класс имеет большое значение, например, при обнаружении редких болезней.\n",
    "\n",
    "**Weighted Average (взвешенное среднее):**\n",
    "\n",
    "Precision (точность): 0.96  \n",
    "Recall (полнота): 0.95  \n",
    "F1-score: 0.95  \n",
    "\n",
    "Эти значения представляют взвешенное среднее, где каждый класс вносит вклад в соответствии с его размером (количеством экземпляров). Это означает, что модель имеет очень высокие показатели точности, полноты и F1-меры для средневзвешенных результатов.\n",
    "\n",
    "**Улучшение Weighted Average**: Если ваша основная цель - общая точность прогнозов, и вы хотите, чтобы метрики отражали вклад каждого класса в соответствии с их пропорцией в данных.\n",
    "\n",
    "Итак, модель имеет относительно низкие значения макро-среднего (учитывая все классы равноправно) и высокие значения взвешенного среднего (учитывая размеры классов) по precision, recall и F1-score на данном наборе данных.м."
   ]
  },
  {
   "cell_type": "code",
   "execution_count": null,
   "id": "9dc960b3-dcf9-49e4-9052-6d154b64f348",
   "metadata": {},
   "outputs": [],
   "source": []
  }
 ],
 "metadata": {
  "colab": {
   "provenance": []
  },
  "kernelspec": {
   "display_name": "Python 3 (ipykernel)",
   "language": "python",
   "name": "python3"
  },
  "language_info": {
   "codemirror_mode": {
    "name": "ipython",
    "version": 3
   },
   "file_extension": ".py",
   "mimetype": "text/x-python",
   "name": "python",
   "nbconvert_exporter": "python",
   "pygments_lexer": "ipython3",
   "version": "3.9.18"
  }
 },
 "nbformat": 4,
 "nbformat_minor": 5
}
